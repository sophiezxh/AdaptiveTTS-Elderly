{
 "cells": [
  {
   "cell_type": "markdown",
   "metadata": {},
   "source": [
    "## Extract Multi-modal Emotion Features"
   ]
  },
  {
   "cell_type": "markdown",
   "metadata": {},
   "source": [
    "### Config Setting"
   ]
  },
  {
   "cell_type": "code",
   "execution_count": null,
   "metadata": {},
   "outputs": [],
   "source": [
    "import clip\n",
    "import torch\n",
    "import os\n",
    "\n",
    "device = \"cuda\" if torch.cuda.is_available() else \"cpu\"\n",
    "# DATASET is the dataset name model trained on, e.g. ESD, RAF, MELD\n",
    "DATASET = \"ESD\" # \"RAF\" \"MELD\" \"MEADTTS\"\n",
    "\n",
    "PROJECT_PATH = os.path.join('/', *os.getcwd().split(os.sep)[:-2])\n",
    "# PRETRAIN_MODEL is the pretrained model name, e.g. ViT-B/32\n",
    "PRETRAIN_MODEL = \"ViT-B/32\"\n",
    "# PRETRAIN_MODEL_PATH is the pretrained model path, e.g. EPAlign/ckpt/base\n",
    "PRETRAIN_MODEL_PATH = f\"{PROJECT_PATH}/EPAlign/ckpt/base\"\n",
    "# FINETUNE_MODEL is the finetuned model path, e.g. EPAlign/ckpt/ESD/best_model.pt\n",
    "FINETUNE_MODEL = f\"{PROJECT_PATH}/EPAlign/ckpt/{DATASET}/best_model.pt\"\n",
    "# EMO_FEATURE_SAVE_PATH is the path to save the extracted emotion features, e.g. EPAlign/mmefeature/ESD\n",
    "EMO_FEATURE_SAVE_PATH = f\"{PROJECT_PATH}/EPAlign/mmefeature/{DATASET}\"\n",
    "os.makedirs(EMO_FEATURE_SAVE_PATH, exist_ok=True)"
   ]
  },
  {
   "cell_type": "markdown",
   "metadata": {},
   "source": [
    "### Load Model"
   ]
  },
  {
   "cell_type": "code",
   "execution_count": null,
   "metadata": {},
   "outputs": [],
   "source": [
    "model, preprocess = clip.load(PRETRAIN_MODEL, device=device, jit=False, download_root=PRETRAIN_MODEL_PATH)\n",
    "model.load_state_dict(torch.load(FINETUNE_MODEL))"
   ]
  },
  {
   "cell_type": "markdown",
   "metadata": {},
   "source": [
    "### Prompt Setting"
   ]
  },
  {
   "cell_type": "code",
   "execution_count": null,
   "metadata": {},
   "outputs": [],
   "source": [
    "# labels = [\"normal neutral\",\"normal calm\",\"normal happy\",\"normal sad\",\"normal angry\",\"normal fearful\",\"normal disgust\",\"normal surprised\",\"strong clam\",\"strong happy\",\"strong sad\",\"strong angry\",\"strong fearful\",\"strong disgust\",\"strong surprised\"]\n",
    "labels = [\"neutral\", \"happy\", \"sad\", \"angry\", \"surprise\"]\n",
    "# labels_old = ['angry_level_1',\n",
    "#  'angry_level_2',\n",
    "#  'angry_level_3',\n",
    "#  'contempt_level_1',\n",
    "#  'contempt_level_2',\n",
    "#  'contempt_level_3',\n",
    "#  'disgusted_level_1',\n",
    "#  'disgusted_level_2',\n",
    "#  'disgusted_level_3',\n",
    "#  'fear_level_1',\n",
    "#  'fear_level_2',\n",
    "#  'fear_level_3',\n",
    "#  'happy_level_1',\n",
    "#  'happy_level_2',\n",
    "#  'happy_level_3',\n",
    "#  'neutral_level_1',\n",
    "#  'sad_level_1',\n",
    "#  'sad_level_2',\n",
    "#  'sad_level_3',\n",
    "#  'surprised_level_1',\n",
    "#  'surprised_level_2',\n",
    "#  'surprised_level_3']\n",
    "# level2describe = {\n",
    "#     \"level_1\": \"slightly\",\n",
    "#     \"level_2\": \"moderately\",\n",
    "#     \"level_3\": \"extremely\"\n",
    "# }\n",
    "# labels = [f\"{level2describe[emotion.split('_')[1]+'_'+emotion.split('_')[2]]} {emotion.split('_')[0]}\" for emotion in labels_old]\n",
    "# prompt = [f'talk in {label} emotion', for label in labels]\n",
    "prompt = [f'A person speaking with a feeling of {label}.' for label in labels]"
   ]
  },
  {
   "cell_type": "markdown",
   "metadata": {},
   "source": [
    "### Extract & Save mmefeature"
   ]
  },
  {
   "cell_type": "code",
   "execution_count": null,
   "metadata": {},
   "outputs": [],
   "source": [
    "emo_prompt = clip.tokenize(prompt).to(device)\n",
    "\n",
    "with torch.no_grad():\n",
    "    emo_prompt_features = model.encode_text(emo_prompt)\n",
    "    emo_prompt_features /= emo_prompt_features.norm(dim=-1, keepdim=True)\n",
    "\n",
    "emo_prompt_features = emo_prompt_features.split(1, dim=0)\n",
    "\n",
    "for i in range(len(emo_prompt_features)):\n",
    "    # torch.save(emo_prompt_features[i].squeeze(), f\"{emo_feature_save_path}/{tag[i].split(' ')[2]}and{tag[i].split(' ')[4]}.pt\")\n",
    "    torch.save(emo_prompt_features[i].squeeze(), f\"{EMO_FEATURE_SAVE_PATH}/{labels[i].split(' ')[-1]}.pt\")\n",
    "    # torch.save(emo_prompt_features[i].squeeze(), f\"{EMO_FEATURE_SAVE_PATH}/tmp/{labels_old[i]}.pt\")"
   ]
  },
  {
   "cell_type": "markdown",
   "metadata": {},
   "source": [
    "### Check Feature Shape"
   ]
  },
  {
   "cell_type": "code",
   "execution_count": null,
   "metadata": {},
   "outputs": [],
   "source": [
    "import os\n",
    "for file in os.listdir(EMO_FEATURE_SAVE_PATH):\n",
    "    efeature = torch.load(f\"{EMO_FEATURE_SAVE_PATH}/{file}\", map_location=torch.device('cpu'))\n",
    "    if efeature.shape[0] != 512:\n",
    "        print(file)"
   ]
  },
  {
   "cell_type": "code",
   "execution_count": null,
   "metadata": {},
   "outputs": [],
   "source": []
  }
 ],
 "metadata": {
  "kernelspec": {
   "display_name": "MMTTS",
   "language": "python",
   "name": "python3"
  },
  "language_info": {
   "codemirror_mode": {
    "name": "ipython",
    "version": 3
   },
   "file_extension": ".py",
   "mimetype": "text/x-python",
   "name": "python",
   "nbconvert_exporter": "python",
   "pygments_lexer": "ipython3",
   "version": "3.12.2"
  }
 },
 "nbformat": 4,
 "nbformat_minor": 2
}
